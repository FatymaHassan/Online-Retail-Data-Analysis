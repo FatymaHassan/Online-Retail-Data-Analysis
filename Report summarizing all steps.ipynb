{
 "cells": [
  {
   "cell_type": "markdown",
   "id": "1860cb49",
   "metadata": {},
   "source": [
    "<h1 style='color:purple' align='center'> Online Retail Data Analysis Report </h1>"
   ]
  },
  {
   "cell_type": "markdown",
   "id": "029c92a8",
   "metadata": {},
   "source": [
    "<h1 style='color:blue'>Technology and tools wise this project covers</h1>"
   ]
  },
  {
   "cell_type": "markdown",
   "id": "2843b34f",
   "metadata": {},
   "source": [
    "1) Python\n",
    "2) Numpy and Pandas for data cleaning\n",
    "3) Matplotlib &  seaborn for data visualization\n",
    "4) Linear regression for model building\n",
    "5) Jupyter notebook as IDE"
   ]
  },
  {
   "cell_type": "markdown",
   "id": "c872b2bd",
   "metadata": {},
   "source": [
    "##### Importing Libraries"
   ]
  },
  {
   "cell_type": "markdown",
   "id": "72530de2",
   "metadata": {},
   "source": [
    "Importing Libraries: Essential Python libraries for data manipulation, visualization, and machine learning are imported. This includes Pandas, NumPy, Plotly, Matplotlib, Seaborn, and scikit-learn, indicating a blend of exploratory data analysis, statistical modeling, and data visualization"
   ]
  },
  {
   "cell_type": "markdown",
   "id": "706b4b00",
   "metadata": {},
   "source": [
    "### Initial Data Exploration"
   ]
  },
  {
   "cell_type": "markdown",
   "id": "ef7127f5",
   "metadata": {},
   "source": [
    "Load the dataset and get a basic understanding of its structure and contents"
   ]
  },
  {
   "cell_type": "markdown",
   "id": "baaf7dc9",
   "metadata": {},
   "source": [
    "### Data Cleaning and Preprocessing\n"
   ]
  },
  {
   "cell_type": "markdown",
   "id": "ce6cf22b",
   "metadata": {},
   "source": [
    "##### Duplication Removal:\n",
    "Duplicates were identified and removed from the dataset, ensuring data integrity"
   ]
  },
  {
   "cell_type": "markdown",
   "id": "c2fd7dc2",
   "metadata": {},
   "source": [
    "##### Handling Missing Values:\n",
    "'Description': Missing descriptions were replaced with 'No Description'.\n",
    "\n",
    "'CustomerID': Rows with missing customer IDs were removed, as this is crucial for customer analysis."
   ]
  },
  {
   "cell_type": "markdown",
   "id": "65a4802e",
   "metadata": {},
   "source": [
    "##### Outlier Treatment:\n",
    "The Interquartile Range (IQR) method was applied to 'Quantity', 'UnitPrice', and 'TotalPrice' columns to remove outliers.\n",
    "\n",
    "Comparative box plots were generated to visualize the impact of outlier removal."
   ]
  },
  {
   "cell_type": "markdown",
   "id": "5f257df9",
   "metadata": {},
   "source": [
    "### Exploratory Data Analysis (EDA)\n"
   ]
  },
  {
   "cell_type": "markdown",
   "id": "4e89d8fe",
   "metadata": {},
   "source": [
    "##### Perform descriptive statistics.\n",
    "Descriptive statistics for numerical columns ('Quantity', 'UnitPrice', 'TotalPrice') \n",
    "\n",
    "were computed, providing insights into the central tendency, dispersion, and distribution of these variables\n"
   ]
  },
  {
   "cell_type": "markdown",
   "id": "669df246",
   "metadata": {},
   "source": [
    "##### Analyze sales trends over time.\n",
    "Sales trends showed fluctuations over the analyzed period, with certain peak days indicating higher sales volume\n",
    "\n"
   ]
  },
  {
   "cell_type": "markdown",
   "id": "ae519ce3",
   "metadata": {},
   "source": [
    "##### Conduct customer segmentation.\n",
    "Most customers have low to moderate transaction frequencies, but there are a few with very high transaction counts\n",
    "\n"
   ]
  },
  {
   "cell_type": "markdown",
   "id": "c8585234",
   "metadata": {},
   "source": [
    "##### Examine product performance\n",
    "Top-selling products include 'REGENCY CAKESTAND 3 TIER' and 'VINTAGE UNION JACK MEMOBOARD'.\n",
    "Some products show significantly lower sales, suggesting a review of their stock levels or marketing strategies\n"
   ]
  },
  {
   "cell_type": "markdown",
   "id": "e5b17273",
   "metadata": {},
   "source": [
    "##### unique values of categorical variables \n",
    "\n",
    "the code provides a good starting point for exploring and understanding the categorical variables in the dataset. The insights gained from unique values and their counts can inform subsequent steps in data preprocessing, visualization, or analysis"
   ]
  },
  {
   "cell_type": "markdown",
   "id": "9c1ba8ef",
   "metadata": {},
   "source": [
    "### Data visualizations"
   ]
  },
  {
   "cell_type": "markdown",
   "id": "3a58cb18",
   "metadata": {},
   "source": [
    "Sales by Country (excluding UK for better scale visualization)\n",
    "\n",
    "Transactions over Time\n",
    "\n",
    "Product Variety\n",
    "\n",
    "Sales Distribution by Country"
   ]
  },
  {
   "cell_type": "markdown",
   "id": "ff34e377",
   "metadata": {},
   "source": [
    "### Step4: Linear regression model"
   ]
  },
  {
   "cell_type": "markdown",
   "id": "15a0d667",
   "metadata": {},
   "source": [
    "Finally, we built a linear regression model to predict the 'TotalPrice' variable based on selected independent variables. The model was trained and evaluated, achieving a certain accuracy on the test set. The model was then used to make predictions for new data points"
   ]
  },
  {
   "cell_type": "code",
   "execution_count": null,
   "id": "65904186",
   "metadata": {},
   "outputs": [],
   "source": []
  }
 ],
 "metadata": {
  "kernelspec": {
   "display_name": "Python 3 (ipykernel)",
   "language": "python",
   "name": "python3"
  },
  "language_info": {
   "codemirror_mode": {
    "name": "ipython",
    "version": 3
   },
   "file_extension": ".py",
   "mimetype": "text/x-python",
   "name": "python",
   "nbconvert_exporter": "python",
   "pygments_lexer": "ipython3",
   "version": "3.11.4"
  }
 },
 "nbformat": 4,
 "nbformat_minor": 5
}
